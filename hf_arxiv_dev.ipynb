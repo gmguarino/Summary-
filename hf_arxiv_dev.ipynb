{
 "cells": [
  {
   "cell_type": "code",
   "execution_count": null,
   "metadata": {},
   "outputs": [],
   "source": [
    "!pip install \"sagemaker>=2.48.0\" \"transformers==4.6.1\" \"datasets[s3]==1.6.2\" --upgrade"
   ]
  },
  {
   "cell_type": "code",
   "execution_count": null,
   "metadata": {},
   "outputs": [],
   "source": [
    "!pip install -U sagemaker"
   ]
  },
  {
   "cell_type": "code",
   "execution_count": null,
   "metadata": {},
   "outputs": [],
   "source": [
    "import sagemaker.huggingface"
   ]
  },
  {
   "cell_type": "code",
   "execution_count": null,
   "metadata": {},
   "outputs": [],
   "source": [
    "import sagemaker\n",
    "import logging\n",
    "import sys"
   ]
  },
  {
   "cell_type": "code",
   "execution_count": null,
   "metadata": {},
   "outputs": [],
   "source": [
    "logger = logging.getLogger()\n",
    "logger.setLevel(logging.INFO)\n",
    "logger.addHandler(logging.StreamHandler(sys.stdout))"
   ]
  },
  {
   "cell_type": "code",
   "execution_count": null,
   "metadata": {},
   "outputs": [],
   "source": [
    "def setup_sagemaker_session(logger=None):\n",
    "    # 1. Get Sagemaker session\n",
    "    # 2. Get default bucket\n",
    "    # 3. Get sagemaker execution role\n",
    "\n",
    "    sagemaker_session = sagemaker.Session()\n",
    "    bucket = sagemaker_session.default_bucket()\n",
    "    role = sagemaker.get_execution_role()\n",
    "    \n",
    "    if logger is None:\n",
    "        print(f\"sagemaker role arn: {role}\")\n",
    "        print(f\"sagemaker bucket: {sagemaker_session.default_bucket()}\")\n",
    "        print(f\"sagemaker session region: {sagemaker_session.boto_region_name}\")\n",
    "    else:\n",
    "        logger.info(f\"sagemaker role arn: {role}\")\n",
    "        logger.info(f\"sagemaker bucket: {sagemaker_session.default_bucket()}\")\n",
    "        logger.info(f\"sagemaker session region: {sagemaker_session.boto_region_name}\")\n",
    "\n",
    "    return sagemaker_session, bucket, role"
   ]
  },
  {
   "cell_type": "code",
   "execution_count": null,
   "metadata": {},
   "outputs": [],
   "source": [
    "sm_sess, bucket, role = setup_sagemaker_session(logger)"
   ]
  },
  {
   "cell_type": "code",
   "execution_count": null,
   "metadata": {},
   "outputs": [],
   "source": [
    "!git pull origin main"
   ]
  },
  {
   "cell_type": "code",
   "execution_count": null,
   "metadata": {},
   "outputs": [],
   "source": [
    "from sagemaker.huggingface import HuggingFace"
   ]
  },
  {
   "cell_type": "code",
   "execution_count": null,
   "metadata": {},
   "outputs": [],
   "source": [
    "hyperparameters={\n",
    "    'epochs': 10,\n",
    "     'batch_size': 32,\n",
    "     'model':'bert-based-uncased'\n",
    "}\n",
    "base_job_prefix = \"huggingface-classification-arxiv\"\n",
    "model_path = f\"s3://{sm_sess.default_bucket()}/{base_job_prefix}/model\""
   ]
  },
  {
   "cell_type": "code",
   "execution_count": null,
   "metadata": {},
   "outputs": [],
   "source": [
    "huggingface_estimator = HuggingFace(\n",
    "    entry_point='train.py',\n",
    "    source_dir='./src',\n",
    "    instance_type='ml.p3.2xlarge',\n",
    "    instance_count=1,\n",
    "    role=role,\n",
    "    transformers_version='4.12',\n",
    "    pytorch_version='1.9',\n",
    "    py_version='py38',\n",
    "    output_path=model_path,\n",
    "    hyperparameters=hyperparameters\n",
    ")"
   ]
  },
  {
   "cell_type": "code",
   "execution_count": null,
   "metadata": {},
   "outputs": [],
   "source": [
    "huggingface_estimator.fit()"
   ]
  }
 ],
 "metadata": {
  "language_info": {
   "name": "python"
  },
  "orig_nbformat": 4
 },
 "nbformat": 4,
 "nbformat_minor": 2
}
